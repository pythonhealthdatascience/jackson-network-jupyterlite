{
 "cells": [
  {
   "cell_type": "markdown",
   "metadata": {},
   "source": [
    "# Open Jackson Network Lab\n",
    "\n",
    "In the lab you will learn\n",
    "\n",
    "* How to represent arrival rates in a network as a system of linear equations in matrix form\n",
    "* How to use `scipy.linalg` functions to solve for the arrival rates\n",
    "* How to analyse the network"
   ]
  },
  {
   "cell_type": "markdown",
   "metadata": {},
   "source": [
    "## Imports"
   ]
  },
  {
   "cell_type": "code",
   "execution_count": 52,
   "metadata": {},
   "outputs": [
    {
     "ename": "ModuleNotFoundError",
     "evalue": "No module named 'piplite'",
     "output_type": "error",
     "traceback": [
      "\u001b[0;31m---------------------------------------------------------------------------\u001b[0m",
      "\u001b[0;31mModuleNotFoundError\u001b[0m                       Traceback (most recent call last)",
      "Input \u001b[0;32mIn [52]\u001b[0m, in \u001b[0;36m<cell line: 1>\u001b[0;34m()\u001b[0m\n\u001b[0;32m----> 1\u001b[0m \u001b[38;5;28;01mimport\u001b[39;00m \u001b[38;5;21;01mpiplite\u001b[39;00m\n\u001b[1;32m      2\u001b[0m \u001b[38;5;28;01mawait\u001b[39;00m piplite\u001b[38;5;241m.\u001b[39minstall(\u001b[38;5;124m'\u001b[39m\u001b[38;5;124mscipy\u001b[39m\u001b[38;5;124m'\u001b[39m)\n\u001b[1;32m      3\u001b[0m \u001b[38;5;28;01mawait\u001b[39;00m piplite\u001b[38;5;241m.\u001b[39minstall(\u001b[38;5;124m'\u001b[39m\u001b[38;5;124mseaborn\u001b[39m\u001b[38;5;124m'\u001b[39m)\n",
      "\u001b[0;31mModuleNotFoundError\u001b[0m: No module named 'piplite'"
     ]
    }
   ],
   "source": [
    "import piplite\n",
    "await piplite.install('scipy')\n",
    "await piplite.install('seaborn')\n",
    "\n",
    "import scipy.linalg as linalg\n",
    "import math\n",
    "import numpy as np\n",
    "import pandas as pd\n",
    "import matplotlib.pyplot as plt\n",
    "import seaborn as sns\n",
    "%matplotlib inline\n",
    "\n",
    "sns.set()"
   ]
  },
  {
   "cell_type": "markdown",
   "metadata": {},
   "source": [
    "## The example queueing network\n",
    "\n",
    "**Question**: What is the expected number of customers in the entire queuing system?"
   ]
  },
  {
   "cell_type": "markdown",
   "metadata": {},
   "source": [
    "\n",
    "<img src=\"image/jn_example.png\" width=\"500\">"
   ]
  },
  {
   "cell_type": "markdown",
   "metadata": {},
   "source": [
    "## Step 1: Solve for $\\lambda_i$\n",
    "\n",
    "Given:\n",
    "\n",
    "\\begin{equation}\n",
    "        \\lambda_j = a_j + \\sum_{i=1}^m \\lambda_i p_{ij}\n",
    "    \\end{equation}\n",
    "    \n",
    "---\n",
    "\n",
    "Plug the $a_j$ and $p_{ij}$ figures into the equation for $\\lambda_j$ \n",
    "\n",
    "$$\\lambda_1 = 1 + 0.1\\lambda_2 + 0.4\\lambda_3 $$\n",
    "$$\\lambda_2 = 4 + 0.6\\lambda_1 + 0.4\\lambda_3 $$\n",
    "$$\\lambda_3 = 3 + 0.3\\lambda_1 + 0.3\\lambda_2 $$\n",
    "\n",
    "---\n",
    "(optional) rearrange the equations with $a_j$ on the RHS\n",
    "\n",
    "$$\\lambda_1 - 0.1\\lambda_2 - 0.4\\lambda_3 = 1$$\n",
    "$$-0.6\\lambda_1 + \\lambda_2 - 0.4\\lambda_3 = 4$$\n",
    "$$-0.3\\lambda_1 - 0.3\\lambda_2 + \\lambda_3 = 3$$\n",
    "\n",
    "---"
   ]
  },
  {
   "cell_type": "markdown",
   "metadata": {},
   "source": [
    "Express the system of equations describing arrival rates in matrix form.\n",
    "\n",
    "$$ \\begin{bmatrix} 1 & -0.1 & -0.4\\\\ -0.6 & 1 & -0.4 \\\\ -0.3 & -0.3 & 1 \\end{bmatrix} \\begin{bmatrix} \\lambda_1 \\\\ \\lambda_2 \\\\ \\lambda_3 \\end{bmatrix}= \\begin{bmatrix} 1\\\\ 4\\\\ 3 \\end{bmatrix}$$"
   ]
  },
  {
   "cell_type": "code",
   "execution_count": 53,
   "metadata": {},
   "outputs": [],
   "source": [
    "# create the matricies as numpy arrays\n",
    "a = np.array([[1, -0.1, -0.4], [-0.6, 1, -0.4], [-0.3, -0.3, 1]])\n",
    "b = np.array([1, 4, 3])"
   ]
  },
  {
   "cell_type": "code",
   "execution_count": 54,
   "metadata": {},
   "outputs": [
    {
     "data": {
      "text/plain": [
       "array([[ 1. , -0.1, -0.4],\n",
       "       [-0.6,  1. , -0.4],\n",
       "       [-0.3, -0.3,  1. ]])"
      ]
     },
     "execution_count": 54,
     "metadata": {},
     "output_type": "execute_result"
    }
   ],
   "source": [
    "a"
   ]
  },
  {
   "cell_type": "code",
   "execution_count": 55,
   "metadata": {},
   "outputs": [
    {
     "data": {
      "text/plain": [
       "array([1, 4, 3])"
      ]
     },
     "execution_count": 55,
     "metadata": {},
     "output_type": "execute_result"
    }
   ],
   "source": [
    "b"
   ]
  },
  {
   "cell_type": "markdown",
   "metadata": {},
   "source": [
    "## Solve for the unknowns\n",
    "\n",
    "To solve for the unknowns we need to take the dot product of the inverse of a and b\n",
    "\n",
    "$$\\begin{bmatrix} \\lambda_1 \\\\ \\lambda_2 \\\\ \\lambda_3 \\end{bmatrix} = \\begin{bmatrix} 1 & -0.1 & -0.4\\\\ -0.6 & 1 & -0.4 \\\\ -0.3 & -0.3 & 1 \\end{bmatrix}^{-1} \\begin{bmatrix} 1\\\\ 4\\\\ 3 \\end{bmatrix}$$"
   ]
  },
  {
   "cell_type": "code",
   "execution_count": 56,
   "metadata": {},
   "outputs": [
    {
     "data": {
      "text/plain": [
       "array([ 5. , 10. ,  7.5])"
      ]
     },
     "execution_count": 56,
     "metadata": {},
     "output_type": "execute_result"
    }
   ],
   "source": [
    "np.dot(linalg.inv(a), b)"
   ]
  },
  {
   "cell_type": "markdown",
   "metadata": {},
   "source": [
    "An alternative way to solve for the unknowns is to use linalg.solve"
   ]
  },
  {
   "cell_type": "code",
   "execution_count": 57,
   "metadata": {},
   "outputs": [
    {
     "data": {
      "text/plain": [
       "array([ 5. , 10. ,  7.5])"
      ]
     },
     "execution_count": 57,
     "metadata": {},
     "output_type": "execute_result"
    }
   ],
   "source": [
    "arrival_rate = linalg.solve(a, b)\n",
    "arrival_rate"
   ]
  },
  {
   "cell_type": "markdown",
   "metadata": {},
   "source": [
    "## Step 2: Calculate the traffic intensity\n",
    "\n",
    "$\\rho_i = \\dfrac{\\lambda_i} {s_i \\mu_i}$\n",
    "\n",
    "Remember that you are treating each queuing system as an independent M/M/s\n",
    "\n",
    "* Facility 1 is a M/M/1\n",
    "* Facility 2 is a M/M/2\n",
    "* Facility 3 is a M/M/1"
   ]
  },
  {
   "cell_type": "markdown",
   "metadata": {},
   "source": [
    "#### Example solution"
   ]
  },
  {
   "cell_type": "code",
   "execution_count": 58,
   "metadata": {},
   "outputs": [
    {
     "data": {
      "text/plain": [
       "array([0.5 , 0.5 , 0.75])"
      ]
     },
     "execution_count": 58,
     "metadata": {},
     "output_type": "execute_result"
    }
   ],
   "source": [
    "servers = np.array([1, 2, 1])\n",
    "service_rate = np.array([10, 10, 10])\n",
    "\n",
    "rho = arrival_rate / (servers * service_rate)\n",
    "rho"
   ]
  },
  {
   "cell_type": "markdown",
   "metadata": {},
   "source": [
    "## Step 3: Calculate the number of people in the queue\n",
    "\n",
    "For an M/M/1\n",
    "\n",
    "$L_s = \\dfrac{\\rho}{1 - \\rho}$\n",
    "\n",
    "and for an M/M/s\n",
    "\n",
    "$p_0 = \\left[ \\sum_{n=0}^{s-1} \\frac{\\left(\\lambda/ \\mu \\right)^n}{n!} + \\frac{\\left( \\lambda / \\mu \\right)^s}{s!\\left(1-\\rho\\right)}  \\right]^{-1}$\n",
    "\n",
    "$L_q = \\dfrac{p_o(\\lambda/\\mu)^s\\rho}{s!(1-\\rho)^2}$\n"
   ]
  },
  {
   "cell_type": "markdown",
   "metadata": {},
   "source": [
    "\n",
    "$L_s = L_q + \\dfrac{\\lambda}{\\mu}$\n"
   ]
  },
  {
   "cell_type": "code",
   "execution_count": 81,
   "metadata": {},
   "outputs": [],
   "source": [
    "class MMSQueue:\n",
    "    '''\n",
    "    M/M/S/inf/inf/FIFO system\n",
    "    '''\n",
    "    def __init__(self, _lambda, mu, s):\n",
    "        '''\n",
    "        Constructor\n",
    "        \n",
    "        Parameters:\n",
    "        -------\n",
    "        _lambda: float\n",
    "            The arrival rate of customers to the facility\n",
    "            \n",
    "        mu: float\n",
    "            The service rate of the facility\n",
    "            \n",
    "        s: int\n",
    "            The number of servers\n",
    "        '''\n",
    "        self._lambda = _lambda\n",
    "        self.mu = mu\n",
    "        self.s = int(s)\n",
    "        self.rho = self._get_traffic_intensity()\n",
    "        \n",
    "        #create a dict of performance metrics\n",
    "        #solve for L_q then use little's law to calculate remaining KPIs\n",
    "        self.metrics = {}\n",
    "        self.metrics[r'$\\rho$'] = self.rho\n",
    "        self.metrics[r'$L_q$'] = self._get_mean_queue_length()\n",
    "        self.metrics[r'$L_s$'] = self.metrics[r'$L_q$'] + (_lambda / mu)\n",
    "        self.metrics[r'$W_s$'] = self.metrics[r'$L_s$'] / _lambda\n",
    "        self.metrics[r'$W_q$'] = self.metrics[r'$W_s$'] - (1 / mu)\n",
    "        \n",
    "    @property\n",
    "    def total_in_system(self):\n",
    "        return self.metrics[r'$L_s$']\n",
    "        \n",
    "    def _get_traffic_intensity(self):\n",
    "        '''\n",
    "        calculate the traffic intensity (server utilisation)\n",
    "        of an M/M/s queue\n",
    "        '''\n",
    "        return self._lambda / (self.s * self.mu)  \n",
    "    \n",
    "    def _get_mean_queue_length(self):\n",
    "        '''\n",
    "        Mean length of queue Lq\n",
    "        '''\n",
    "        p0 = self.prob_system_empty()\n",
    "       \n",
    "        lq = (p0 * ((self._lambda / self.mu)**self.s) * \n",
    "              self.rho) / (math.factorial(self.s) * (1 - self.rho)**2)\n",
    "        return lq\n",
    "        \n",
    "    def prob_system_empty(self):\n",
    "        '''\n",
    "        The probability that a M/M/s/infinity queue is empty\n",
    "        '''\n",
    "        p0 = 0.0\n",
    "\n",
    "        for n in range(self.s):\n",
    "            p0 += ((self._lambda / self.mu) ** n) / math.factorial(n)\n",
    "\n",
    "        p0 += ((self._lambda / self.mu) ** self.s) / (math.factorial(self.s) \n",
    "                                                      * (1 - self.rho))\n",
    "        return p0**-1\n",
    "    \n",
    "    def prob_n_in_system(self, n, return_all_solutions=True, as_frame=True):\n",
    "        '''\n",
    "        Calculate the probability that n customers\n",
    "        in the system (queuing + service)\n",
    "\n",
    "        Parameters:\n",
    "        --------\n",
    "        n: int,\n",
    "            Number of customers in the system\n",
    "\n",
    "        return_all_solutions: bool, optional (default=True)\n",
    "            Returns all solutions for 0,1 ... n\n",
    "            \n",
    "        as_frame: bool, optional (default=True)\n",
    "            If True, returns all solutions in a pd.DataFrame\n",
    "            else returns all solutions as np.ndarray\n",
    "            has no effect is return_all_solutions == False\n",
    "\n",
    "        Returns:\n",
    "        ------\n",
    "            np.ndarray of solutions\n",
    "\n",
    "        '''\n",
    "        p0 = self.prob_system_empty()\n",
    "        probs = [p0]\n",
    "\n",
    "        #for n <= s\n",
    "        for i in range(1, min(self.s+1, n+1)):\n",
    "            pn = (((self._lambda / self.mu)**i) / math.factorial(i)) * p0\n",
    "            probs.append(pn)\n",
    "\n",
    "        #for n > s\n",
    "        for i in range(self.s+1, n+1):\n",
    "            pn = (((self._lambda / self.mu)**i) / (math.factorial(self.s) \n",
    "                                                   * (self.s**(n-self.s)))) * p0\n",
    "            probs.append(pn)\n",
    "\n",
    "        if return_all_solutions:\n",
    "            results = np.array(probs)\n",
    "            if as_frame:\n",
    "                return pd.DataFrame(results, columns=['P(X=n)'])\n",
    "            else:\n",
    "                return results\n",
    "        else:\n",
    "            return probs[:-1]\n",
    "        \n",
    "    def summary_frame(self):\n",
    "        '''\n",
    "        Return performance metrics\n",
    "        \n",
    "        Returns:\n",
    "        ---------\n",
    "        pd.DataFrame\n",
    "        '''\n",
    "        df = pd.Series(self.metrics).to_frame()\n",
    "        df.columns = ['performance']\n",
    "        return df"
   ]
  },
  {
   "cell_type": "code",
   "execution_count": 82,
   "metadata": {},
   "outputs": [
    {
     "data": {
      "text/html": [
       "<div>\n",
       "<style scoped>\n",
       "    .dataframe tbody tr th:only-of-type {\n",
       "        vertical-align: middle;\n",
       "    }\n",
       "\n",
       "    .dataframe tbody tr th {\n",
       "        vertical-align: top;\n",
       "    }\n",
       "\n",
       "    .dataframe thead th {\n",
       "        text-align: right;\n",
       "    }\n",
       "</style>\n",
       "<table border=\"1\" class=\"dataframe\">\n",
       "  <thead>\n",
       "    <tr style=\"text-align: right;\">\n",
       "      <th></th>\n",
       "      <th>performance</th>\n",
       "    </tr>\n",
       "  </thead>\n",
       "  <tbody>\n",
       "    <tr>\n",
       "      <th>$\\rho$</th>\n",
       "      <td>0.5</td>\n",
       "    </tr>\n",
       "    <tr>\n",
       "      <th>$L_q$</th>\n",
       "      <td>0.5</td>\n",
       "    </tr>\n",
       "    <tr>\n",
       "      <th>$L_s$</th>\n",
       "      <td>1.0</td>\n",
       "    </tr>\n",
       "    <tr>\n",
       "      <th>$W_s$</th>\n",
       "      <td>0.2</td>\n",
       "    </tr>\n",
       "    <tr>\n",
       "      <th>$W_q$</th>\n",
       "      <td>0.1</td>\n",
       "    </tr>\n",
       "  </tbody>\n",
       "</table>\n",
       "</div>"
      ],
      "text/plain": [
       "        performance\n",
       "$\\rho$          0.5\n",
       "$L_q$           0.5\n",
       "$L_s$           1.0\n",
       "$W_s$           0.2\n",
       "$W_q$           0.1"
      ]
     },
     "execution_count": 82,
     "metadata": {},
     "output_type": "execute_result"
    }
   ],
   "source": [
    "queues = [MMSQueue(l, mu, s) for l, mu, s in zip(arrival_rate, service_rate, \n",
    "                                                 servers)]\n",
    "\n",
    "queues[0].summary_frame()"
   ]
  },
  {
   "cell_type": "code",
   "execution_count": 83,
   "metadata": {},
   "outputs": [
    {
     "data": {
      "text/html": [
       "<div>\n",
       "<style scoped>\n",
       "    .dataframe tbody tr th:only-of-type {\n",
       "        vertical-align: middle;\n",
       "    }\n",
       "\n",
       "    .dataframe tbody tr th {\n",
       "        vertical-align: top;\n",
       "    }\n",
       "\n",
       "    .dataframe thead th {\n",
       "        text-align: right;\n",
       "    }\n",
       "</style>\n",
       "<table border=\"1\" class=\"dataframe\">\n",
       "  <thead>\n",
       "    <tr style=\"text-align: right;\">\n",
       "      <th></th>\n",
       "      <th>performance</th>\n",
       "    </tr>\n",
       "  </thead>\n",
       "  <tbody>\n",
       "    <tr>\n",
       "      <th>$\\rho$</th>\n",
       "      <td>0.50</td>\n",
       "    </tr>\n",
       "    <tr>\n",
       "      <th>$L_q$</th>\n",
       "      <td>0.33</td>\n",
       "    </tr>\n",
       "    <tr>\n",
       "      <th>$L_s$</th>\n",
       "      <td>1.33</td>\n",
       "    </tr>\n",
       "    <tr>\n",
       "      <th>$W_s$</th>\n",
       "      <td>0.13</td>\n",
       "    </tr>\n",
       "    <tr>\n",
       "      <th>$W_q$</th>\n",
       "      <td>0.03</td>\n",
       "    </tr>\n",
       "  </tbody>\n",
       "</table>\n",
       "</div>"
      ],
      "text/plain": [
       "        performance\n",
       "$\\rho$         0.50\n",
       "$L_q$          0.33\n",
       "$L_s$          1.33\n",
       "$W_s$          0.13\n",
       "$W_q$          0.03"
      ]
     },
     "execution_count": 83,
     "metadata": {},
     "output_type": "execute_result"
    }
   ],
   "source": [
    "queues[1].summary_frame().round(2)"
   ]
  },
  {
   "cell_type": "code",
   "execution_count": 84,
   "metadata": {},
   "outputs": [
    {
     "data": {
      "text/html": [
       "<div>\n",
       "<style scoped>\n",
       "    .dataframe tbody tr th:only-of-type {\n",
       "        vertical-align: middle;\n",
       "    }\n",
       "\n",
       "    .dataframe tbody tr th {\n",
       "        vertical-align: top;\n",
       "    }\n",
       "\n",
       "    .dataframe thead th {\n",
       "        text-align: right;\n",
       "    }\n",
       "</style>\n",
       "<table border=\"1\" class=\"dataframe\">\n",
       "  <thead>\n",
       "    <tr style=\"text-align: right;\">\n",
       "      <th></th>\n",
       "      <th>performance</th>\n",
       "    </tr>\n",
       "  </thead>\n",
       "  <tbody>\n",
       "    <tr>\n",
       "      <th>$\\rho$</th>\n",
       "      <td>0.75</td>\n",
       "    </tr>\n",
       "    <tr>\n",
       "      <th>$L_q$</th>\n",
       "      <td>2.25</td>\n",
       "    </tr>\n",
       "    <tr>\n",
       "      <th>$L_s$</th>\n",
       "      <td>3.00</td>\n",
       "    </tr>\n",
       "    <tr>\n",
       "      <th>$W_s$</th>\n",
       "      <td>0.40</td>\n",
       "    </tr>\n",
       "    <tr>\n",
       "      <th>$W_q$</th>\n",
       "      <td>0.30</td>\n",
       "    </tr>\n",
       "  </tbody>\n",
       "</table>\n",
       "</div>"
      ],
      "text/plain": [
       "        performance\n",
       "$\\rho$         0.75\n",
       "$L_q$          2.25\n",
       "$L_s$          3.00\n",
       "$W_s$          0.40\n",
       "$W_q$          0.30"
      ]
     },
     "execution_count": 84,
     "metadata": {},
     "output_type": "execute_result"
    }
   ],
   "source": [
    "queues[2].summary_frame()"
   ]
  },
  {
   "cell_type": "markdown",
   "metadata": {},
   "source": [
    "#### Example solution"
   ]
  },
  {
   "cell_type": "code",
   "execution_count": 85,
   "metadata": {},
   "outputs": [
    {
     "name": "stdout",
     "output_type": "stream",
     "text": [
      "Expected # of customers in queuing network = 5.33\n"
     ]
    }
   ],
   "source": [
    "# total in system\n",
    "total_in_system = sum([q.total_in_system for q in queues])\n",
    "print(f'Expected # of customers in queuing network = {total_in_system:.2f}')"
   ]
  },
  {
   "cell_type": "markdown",
   "metadata": {},
   "source": [
    "## Convenience class for Network problem"
   ]
  },
  {
   "cell_type": "code",
   "execution_count": 86,
   "metadata": {},
   "outputs": [],
   "source": [
    "class JacksonNetwork:\n",
    "    '''\n",
    "    Open Jackson Queuing Network\n",
    "    \n",
    "    A simple implementation where a system of linear equations is specified in\n",
    "    matrix form by a user as opposed to manually adding nodes.\n",
    "    \n",
    "    Create and conveniently holds a collection of MMSQueues.\n",
    "    '''\n",
    "    def __init__(self, a, b, service_times, servers):\n",
    "        '''\n",
    "        Init the network\n",
    "        \n",
    "        Params:\n",
    "        ------\n",
    "        a: np.ndarray\n",
    "            routing of entities through network \n",
    "            Note this rearranged for calculation.\n",
    "            \n",
    "        b: np.ndarray\n",
    "            arrival rates to nodes from outside the network\n",
    "            \n",
    "        service_times: np.ndarray\n",
    "            Service rate at each node\n",
    "            \n",
    "        servers: np.ndarray\n",
    "            No. of servers at each node\n",
    "                \n",
    "        '''\n",
    "        self.a = a\n",
    "        self.b = b\n",
    "        self.service_times = service_times\n",
    "        self.servers = servers\n",
    "        \n",
    "        # number of queues\n",
    "        self.n_nodes = len(service_times)\n",
    "        \n",
    "        # solve for arrival rates\n",
    "        self.arrival_rate = linalg.solve(a, b)\n",
    "        \n",
    "        # create MMS queues\n",
    "        self.queues = self._create_mms_queues()\n",
    "           \n",
    "    @property\n",
    "    def total_in_system(self):\n",
    "        '''\n",
    "        The expected number of entities in the jackson network\n",
    "        Sum of expected number of entities in each MMSQueue\n",
    "        \n",
    "        Returns:\n",
    "        -------\n",
    "        float\n",
    "        '''\n",
    "        return sum([q.total_in_system for q in queues])\n",
    "    \n",
    "    def summary_frame(self):\n",
    "        '''\n",
    "        Tabular summary the performance measures in each queuing node\n",
    "        \n",
    "        For each node returns Rho, L_q, L_s, W_q, W_s, \n",
    "        \n",
    "        Returns:\n",
    "        --------\n",
    "        pd.DataFrame\n",
    "        '''\n",
    "        summary = pd.DataFrame()\n",
    "        \n",
    "        for node_id, q in zip(range(len(self.queues)), self.queues):\n",
    "            node_summary = q.summary_frame()\n",
    "            node_summary.columns = ['node_' + str(node_id)]\n",
    "            summary = pd.concat([summary, node_summary], axis=1)\n",
    "        \n",
    "        return summary\n",
    "        \n",
    "    \n",
    "    def _create_mms_queues(self):\n",
    "        '''\n",
    "        Create and parameterise the required number of MMSQueue objects\n",
    "        \n",
    "        Returns:\n",
    "        --------\n",
    "        List\n",
    "        \n",
    "        '''\n",
    "        return [MMSQueue(l, mu, s) for l, mu, s in zip(self.arrival_rate, \n",
    "                                                       self.service_times, \n",
    "                                                       self.servers)]\n",
    "    "
   ]
  },
  {
   "cell_type": "code",
   "execution_count": 87,
   "metadata": {},
   "outputs": [
    {
     "data": {
      "text/html": [
       "<div>\n",
       "<style scoped>\n",
       "    .dataframe tbody tr th:only-of-type {\n",
       "        vertical-align: middle;\n",
       "    }\n",
       "\n",
       "    .dataframe tbody tr th {\n",
       "        vertical-align: top;\n",
       "    }\n",
       "\n",
       "    .dataframe thead th {\n",
       "        text-align: right;\n",
       "    }\n",
       "</style>\n",
       "<table border=\"1\" class=\"dataframe\">\n",
       "  <thead>\n",
       "    <tr style=\"text-align: right;\">\n",
       "      <th></th>\n",
       "      <th>node_0</th>\n",
       "      <th>node_1</th>\n",
       "      <th>node_2</th>\n",
       "    </tr>\n",
       "  </thead>\n",
       "  <tbody>\n",
       "    <tr>\n",
       "      <th>$\\rho$</th>\n",
       "      <td>0.5</td>\n",
       "      <td>0.50</td>\n",
       "      <td>0.75</td>\n",
       "    </tr>\n",
       "    <tr>\n",
       "      <th>$L_q$</th>\n",
       "      <td>0.5</td>\n",
       "      <td>0.33</td>\n",
       "      <td>2.25</td>\n",
       "    </tr>\n",
       "    <tr>\n",
       "      <th>$L_s$</th>\n",
       "      <td>1.0</td>\n",
       "      <td>1.33</td>\n",
       "      <td>3.00</td>\n",
       "    </tr>\n",
       "    <tr>\n",
       "      <th>$W_s$</th>\n",
       "      <td>0.2</td>\n",
       "      <td>0.13</td>\n",
       "      <td>0.40</td>\n",
       "    </tr>\n",
       "    <tr>\n",
       "      <th>$W_q$</th>\n",
       "      <td>0.1</td>\n",
       "      <td>0.03</td>\n",
       "      <td>0.30</td>\n",
       "    </tr>\n",
       "  </tbody>\n",
       "</table>\n",
       "</div>"
      ],
      "text/plain": [
       "        node_0  node_1  node_2\n",
       "$\\rho$     0.5    0.50    0.75\n",
       "$L_q$      0.5    0.33    2.25\n",
       "$L_s$      1.0    1.33    3.00\n",
       "$W_s$      0.2    0.13    0.40\n",
       "$W_q$      0.1    0.03    0.30"
      ]
     },
     "execution_count": 87,
     "metadata": {},
     "output_type": "execute_result"
    }
   ],
   "source": [
    "model = JacksonNetwork(a, b, service_rate, servers)\n",
    "summary = model.summary_frame().round(2)\n",
    "summary"
   ]
  },
  {
   "cell_type": "code",
   "execution_count": 88,
   "metadata": {},
   "outputs": [
    {
     "name": "stdout",
     "output_type": "stream",
     "text": [
      "Expected # of customers in queuing network = 5.33\n"
     ]
    }
   ],
   "source": [
    "print(f'Expected # of customers in queuing network = {model.total_in_system:.2f}')"
   ]
  },
  {
   "cell_type": "code",
   "execution_count": 89,
   "metadata": {},
   "outputs": [
    {
     "data": {
      "text/plain": [
       "<Figure size 864x432 with 0 Axes>"
      ]
     },
     "metadata": {},
     "output_type": "display_data"
    },
    {
     "data": {
      "image/png": "[encoded data removed]",
      "text/plain": [
       "<Figure size 432x288 with 1 Axes>"
      ]
     },
     "metadata": {
      "needs_background": "light"
     },
     "output_type": "display_data"
    }
   ],
   "source": [
    "def plot_jackson_network_summary(summary):\n",
    "    plt.figure(figsize=(12,6))\n",
    "    summary.T.plot(kind='bar')\n",
    "    plt.title('Jackson Network Performance Metrics')\n",
    "    plt.xlabel('Nodes')\n",
    "    plt.ylabel('Values')\n",
    "    plt.legend(title='Metrics', bbox_to_anchor=(1.05, 1), loc='upper left')\n",
    "    plt.show()\n",
    "    \n",
    "plot_jackson_network_summary(summary)"
   ]
  },
  {
   "cell_type": "code",
   "execution_count": 92,
   "metadata": {},
   "outputs": [
    {
     "name": "stdout",
     "output_type": "stream",
     "text": [
      "        node_1  node_2  node_3\n",
      "$\\rho$     0.5    0.50    0.75\n",
      "$L_q$      0.5    0.33    2.25\n",
      "$L_s$      1.0    1.33    3.00\n",
      "$W_s$      0.2    0.13    0.40\n",
      "$W_q$      0.1    0.03    0.30\n"
     ]
    },
    {
     "data": {
      "image/png": "[encoded data removed]",
      "text/plain": [
       "<Figure size 864x432 with 1 Axes>"
      ]
     },
     "metadata": {
      "needs_background": "light"
     },
     "output_type": "display_data"
    }
   ],
   "source": [
    "\n",
    "class JacksonNetworkExtData:\n",
    "    \"\"\"\n",
    "    Open Jackson Queuing Network model.\n",
    "    \n",
    "    This class models a network of M/M/S queues and computes key performance \n",
    "    metrics for each node in the network.\n",
    "    \n",
    "    Parameters are read from a csv file\n",
    "    \"\"\"\n",
    "    def __init__(self, arrival_matrix, external_arrival, service_rates, servers):\n",
    "        \"\"\"\n",
    "        Initialize the Jackson Network model.\n",
    "        \n",
    "        Parameters:\n",
    "        -----------\n",
    "        arrival_matrix : np.ndarray\n",
    "            Routing matrix of entities through the network.\n",
    "        external_arrival : np.ndarray\n",
    "            External arrival rates to each node from outside the network.\n",
    "        service_rates : np.ndarray\n",
    "            Service rate at each node.\n",
    "        servers : np.ndarray\n",
    "            Number of servers at each node.\n",
    "        \"\"\"\n",
    "        self.arrival_matrix = self.rearrange_matrix(arrival_matrix)\n",
    "        self.external_arrival = external_arrival\n",
    "        self.service_rates = service_rates\n",
    "        self.servers = servers\n",
    "\n",
    "        # Solve for arrival rates at each node (lambda values)\n",
    "        self.arrival_rate = linalg.solve(self.arrival_matrix, external_arrival)\n",
    "\n",
    "        # Create MMS queues for each node\n",
    "        self.queues = [MMSQueue(l, mu, s) for l, mu, s in zip(self.arrival_rate, service_rates, servers)]\n",
    "\n",
    "    def rearrange_matrix(self, routing_matrix):\n",
    "        \"\"\"\n",
    "        Rearranges the routing matrix to express the system of equations in the required form.\n",
    "        \n",
    "        Converts the routing matrix P into a matrix A where:\n",
    "        - A_{ii} = 1 (diagonal elements)\n",
    "        - A_{ij} = -P_{ij} (off-diagonal elements)\n",
    "        \n",
    "        Parameters:\n",
    "        -----------\n",
    "        routing_matrix : np.ndarray\n",
    "            Original routing matrix P.\n",
    "        \n",
    "        Returns:\n",
    "        --------\n",
    "        np.ndarray\n",
    "            Transformed matrix A.\n",
    "        \"\"\"\n",
    "        n = routing_matrix.shape[0]\n",
    "        # Initialize the matrix A with identity matrix (diagonal elements = 1)\n",
    "        A = np.eye(n)\n",
    "        \n",
    "        # Fill off-diagonal elements with -P_ij values\n",
    "        for i in range(n):\n",
    "            for j in range(n):\n",
    "                if i != j:\n",
    "                    A[i, j] = -routing_matrix[i, j]\n",
    "        \n",
    "        return A\n",
    "\n",
    "    def summary_frame(self):\n",
    "        \"\"\"\n",
    "        Generate a summary DataFrame of performance metrics for each node.\n",
    "        \n",
    "        Returns:\n",
    "        --------\n",
    "        pd.DataFrame\n",
    "            A DataFrame containing the performance metrics for all nodes.\n",
    "        \"\"\"\n",
    "        summary = pd.DataFrame()\n",
    "        for i, queue in enumerate(self.queues):\n",
    "            node_summary = queue.summary_frame()\n",
    "            node_summary.columns = [f'node_{i + 1}']\n",
    "            summary = pd.concat([summary, node_summary], axis=1)\n",
    "        return summary\n",
    "\n",
    "    def total_in_system(self):\n",
    "        \"\"\"\n",
    "        Calculate the total number of entities in the network.\n",
    "        \n",
    "        Returns:\n",
    "        --------\n",
    "        float\n",
    "            Total expected number of customers in the network.\n",
    "        \"\"\"\n",
    "        return sum(queue.metrics[r'$L_s$'] for queue in self.queues)\n",
    "\n",
    "def read_params_from_csv(file_path):\n",
    "    \"\"\"\n",
    "    Read Jackson Network parameters from a CSV file, ignoring the first column.\n",
    "    \n",
    "    Parameters:\n",
    "    -----------\n",
    "    file_path : str\n",
    "        The path to the CSV file.\n",
    "    \n",
    "    Returns:\n",
    "    --------\n",
    "    np.ndarray\n",
    "        Arrival matrix (routing matrix).\n",
    "    np.ndarray\n",
    "        Service rates for each node.\n",
    "    np.ndarray\n",
    "        Number of servers for each node.\n",
    "    np.ndarray\n",
    "        External arrival rates.\n",
    "    \"\"\"\n",
    "    df = pd.read_csv(file_path)\n",
    "\n",
    "    arrival_matrix = df.iloc[:-1, 1:-2].values  \n",
    "    service_rates = df['service_rate'][:-1].values  \n",
    "    servers = df['servers'][:-1].values  \n",
    "    external_arrival = df.iloc[-1, 1:-2].values.astype(float) \n",
    "\n",
    "    return arrival_matrix, service_rates, servers, external_arrival\n",
    "\n",
    "def run_jackson_network(file_path):\n",
    "    \"\"\"\n",
    "    Read parameters from a CSV, create a Jackson Network, and output metrics.\n",
    "    \n",
    "    Parameters:\n",
    "    -----------\n",
    "    file_path : str\n",
    "        The path to the CSV file containing the network parameters.\n",
    "    \n",
    "    Returns:\n",
    "    --------\n",
    "    None\n",
    "    \"\"\"\n",
    "    arrival_matrix, service_rates, servers, external_arrival = read_params_from_csv(file_path)\n",
    "\n",
    "    # Create Jackson Network model\n",
    "    model = JacksonNetwork(arrival_matrix, external_arrival, service_rates, servers)\n",
    "\n",
    "    # Display summary table\n",
    "    summary = model.summary_frame().round(2)\n",
    "    print(summary)\n",
    "\n",
    "    # Plot the performance metrics\n",
    "    plot_jackson_network_summary(summary)\n",
    "\n",
    "def plot_jackson_network_summary(summary):\n",
    "    \"\"\"\n",
    "    Plot the Jackson Network performance metrics.\n",
    "    \n",
    "    Parameters:\n",
    "    -----------\n",
    "    summary : pd.DataFrame\n",
    "        The summary DataFrame of performance metrics for each node.\n",
    "    \n",
    "    Returns:\n",
    "    --------\n",
    "    None\n",
    "    \"\"\"\n",
    "    summary.T.plot(kind='bar', figsize=(12, 6))\n",
    "    plt.title('Jackson Network Performance Metrics')\n",
    "    plt.xlabel('Nodes')\n",
    "    plt.ylabel('Values')\n",
    "    plt.legend(title='Metrics', bbox_to_anchor=(1.05, 1), loc='upper left')\n",
    "    plt.show()\n",
    "\n",
    "\n",
    "# fun function from filepath   \n",
    "run_jackson_network('../data/parameters.csv')\n"
   ]
  },
  {
   "cell_type": "code",
   "execution_count": null,
   "metadata": {},
   "outputs": [],
   "source": []
  }
 ],
 "metadata": {
  "kernelspec": {
   "display_name": "Python 3 (ipykernel)",
   "language": "python",
   "name": "python3"
  },
  "language_info": {
   "codemirror_mode": {
    "name": "ipython",
    "version": 3
   },
   "file_extension": ".py",
   "mimetype": "text/x-python",
   "name": "python",
   "nbconvert_exporter": "python",
   "pygments_lexer": "ipython3",
   "version": "3.9.12"
  }
 },
 "nbformat": 4,
 "nbformat_minor": 4
}
